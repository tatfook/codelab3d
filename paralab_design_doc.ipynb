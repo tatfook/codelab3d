{
 "cells": [
  {
   "attachments": {},
   "cell_type": "markdown",
   "metadata": {},
   "source": [
    "# 可计算文档MVP说明\n",
    "- 对标jupyter或google codelabs\n",
    "- 针对计算机教育中的数字教材与测评的应用场景\n",
    "- 基于教育云Docker + Keepwork + Web Paracraft \n",
    "\n",
    "## MVP 开发计划\n",
    "- 1. jupyter 及其生态研究说明（包括jupyter 交互协议及生态组建）【本周内】\n",
    "- 2. 交互计算中间件github项目启动【5月31号】\n",
    "- 3. keepwork支持可计算文档构建【6月30号】\n",
    "- 4. 与课程平台结合、同时与出版社发布可计算文档教材（关于深度学习的一节样课）【7月31号】\n",
    "- 5. 形成可交付方案（产品和课程）【8月31号】\n",
    "\n",
    "## Keepwork研发内容\n",
    "keepwork editor中增加新的ipynb的文档类型和对应的编辑器, 直接用jupyter的editor即可, 先支持本地的python环境127.0.0.1:8888\n",
    "在新建文档时，多一个可计算文档的选项，未来考虑md也支持可计算文档，并可导出ipynb. \n",
    "参考：\n",
    "- https://github.com/microsoft/vscode-jupyter/tree/main\n",
    "- https://github.com/jupyterhub/jupyterhub/tree/main\n",
    "\n",
    "特色功能：\n",
    "- 支持 云主机和本地主机自由切换 (MVP需要支持)\n",
    "- 支持 web paracraft 实验室 (1.0支持)\n",
    "- 支持 web NPL CAD （2.0支持）\n",
    "- 支持 图形化代码编程 (2.0支持)"
   ]
  },
  {
   "attachments": {},
   "cell_type": "markdown",
   "metadata": {},
   "source": [
    "### 特色1：云主机和本地主机自由切换\n",
    "参考google codelabs,  先支持本地localhost server. 能够演示。 "
   ]
  },
  {
   "cell_type": "code",
   "execution_count": 1,
   "metadata": {},
   "outputs": [
    {
     "name": "stdout",
     "output_type": "stream",
     "text": [
      "Hello World!\n"
     ]
    }
   ],
   "source": [
    "# 这里是Python代码\n",
    "def TestPython():\n",
    "   print(\"Hello World!\")\n",
    "\n",
    "TestPython()"
   ]
  },
  {
   "attachments": {},
   "cell_type": "markdown",
   "metadata": {},
   "source": [
    "\n",
    "### 特色2：web paracraft 实验室 （ParaLab）\n",
    "之前很多人不会使用paracraft的代码方块，觉得UI藏得太深了，找不到。 我们采用可计算文档cells的方式来自动创建多个代码方块。注意：\n",
    "- 一个文档默认只能对应一个paracraft世界 （web paracraft示例）。 \n",
    "- 每个paracraft文档代码块自动对应3D场景中的1个代码方块。 \n",
    "- 与Python的文本输出不一样， 当我们用鼠标滑动文档的位置时，web paracraft窗口也会自动移动到代码块的下方，并自动切换到场景中对应的位置。 \n",
    "- 我们可以根据代码的上级的`###` 加编号来对代码方块起名字，例如`表与数组1`,代表在这个标题下的第1个cell中的代码。\n",
    "   - 也可以通过首行注释 `-- title: 代码方块的名字` 强制定义代码方块的名字。\n",
    "- 默认会创建一个代码方块、一个拉杆和一个告示牌， 告示牌为上级的`###`名字。\n",
    "- 可以通过首行注释中空格的数量，来决定自动生成的2个代码方块在3D场景中的距离。 默认方向是Z+。 \n",
    "- 每个文档对应的3D世界以文档的名字命名。 \n",
    "- 支持用python方式执行代码方块， 执行后，拉杆自动激活。但是默认不保存世界。\n",
    "- 用户可以通过命令的方式分享或保存本地世界，也可以直接在web paracraft输出窗口中（只有一个wasm instance）编辑或存盘。\n",
    "- 高级用户可以手工改变自动生成的代码方块的位置，因为文档运行时，会自动寻找代码方块，如果已经存在同名的，就不会再次创建了。\n",
    "\n",
    "下面是一个例子："
   ]
  },
  {
   "attachments": {},
   "cell_type": "markdown",
   "metadata": {},
   "source": [
    "#### 2.6 表与数组\n",
    "我们之前讲过， NPL语言中的全部数据类型是： 数字，字符串，表，函数，true/false/nil。\n",
    "我们只剩下表和函数没有讲了。 本节我们讲解：表(Table)。请看下面的例子"
   ]
  },
  {
   "cell_type": "code",
   "execution_count": null,
   "metadata": {},
   "outputs": [],
   "source": [
    "-- 表与数组\n",
    "\n",
    "-- moveTo(19202, 5, 19168)\n",
    "-- turnTo(90)\n",
    "\n",
    "local params = {}\n",
    "params.pos = {x=19202, y=5, z=19168}\n",
    "params.facing = 90\n",
    "\n",
    "moveTo(params.pos.x, params.pos.y, params.pos.z)\n",
    "turnTo(params.facing)"
   ]
  },
  {
   "attachments": {},
   "cell_type": "markdown",
   "metadata": {},
   "source": [
    "输出：\n",
    "\n",
    "![](https://api.keepwork.com/storage/v0/siteFiles/2424/raw#image.png)"
   ]
  },
  {
   "attachments": {},
   "cell_type": "markdown",
   "metadata": {},
   "source": [
    "上面的3D窗口是采用本地的web paracraft渲染的， 如果文档中有多个， 其实是通过一个实例移动位置完成的，这样可以0秒查看之前的结果。\n",
    "除了文本编程， 我们在v2.0阶段也可以考虑图形化编程，如下图在文档中直接支持图块编程。"
   ]
  },
  {
   "attachments": {},
   "cell_type": "markdown",
   "metadata": {},
   "source": [
    "![](https://api.keepwork.com/storage/v0/siteFiles/2736/raw#image.png)"
   ]
  },
  {
   "attachments": {},
   "cell_type": "markdown",
   "metadata": {},
   "source": [
    "输出：\n",
    "\n",
    "![](https://api.keepwork.com/storage/v0/siteFiles/2734/raw#image.png)"
   ]
  }
 ],
 "metadata": {
  "kernelspec": {
   "display_name": "Python 3",
   "language": "python",
   "name": "python3"
  },
  "language_info": {
   "codemirror_mode": {
    "name": "ipython",
    "version": 3
   },
   "file_extension": ".py",
   "mimetype": "text/x-python",
   "name": "python",
   "nbconvert_exporter": "python",
   "pygments_lexer": "ipython3",
   "version": "3.10.11"
  },
  "orig_nbformat": 4
 },
 "nbformat": 4,
 "nbformat_minor": 2
}
